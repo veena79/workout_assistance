{
 "cells": [
  {
   "cell_type": "markdown",
   "metadata": {},
   "source": [
    "# Imports"
   ]
  },
  {
   "cell_type": "code",
   "execution_count": 1,
   "metadata": {},
   "outputs": [],
   "source": [
    "import os\n",
    "import numpy as np\n",
    "from utils import utils\n",
    "from utils import plotting\n",
    "import pandas as pd\n",
    "import tensorflow as tf\n",
    "from tensorflow import keras\n",
    "import numpy as np\n",
    "import os\n",
    "from keras import optimizers\n",
    "# from keras.utils import to_categorical\n",
    "from tensorflow.keras.utils import to_categorical\n",
    "from keras.callbacks import ModelCheckpoint\n",
    "from keras import regularizers\n",
    "import matplotlib.pyplot as plt"
   ]
  },
  {
   "cell_type": "markdown",
   "metadata": {},
   "source": [
    "# Output Class Setup"
   ]
  },
  {
   "cell_type": "code",
   "execution_count": 2,
   "metadata": {},
   "outputs": [
    {
     "data": {
      "text/plain": [
       "{'squats': 0,\n",
       " 'lunges': 1,\n",
       " 'bicep_curls': 2,\n",
       " 'situps': 3,\n",
       " 'pushups': 4,\n",
       " 'tricep_extensions': 5,\n",
       " 'dumbbell_rows': 6,\n",
       " 'jumping_jacks': 7,\n",
       " 'dumbbell_shoulder_press': 8,\n",
       " 'lateral_shoulder_raises': 9}"
      ]
     },
     "execution_count": 2,
     "metadata": {},
     "output_type": "execute_result"
    }
   ],
   "source": [
    "# encodings for labels in dataset\n",
    "classes = ['squats', 'lunges', 'bicep_curls', 'situps', \n",
    "        'pushups', 'tricep_extensions', 'dumbbell_rows', \n",
    "        'jumping_jacks', 'dumbbell_shoulder_press', \n",
    "        'lateral_shoulder_raises']\n",
    "d={}\n",
    "for i,ex in enumerate(classes):\n",
    "    d[ex] = i\n",
    "d"
   ]
  },
  {
   "cell_type": "markdown",
   "metadata": {},
   "source": [
    "# Data Prep"
   ]
  },
  {
   "cell_type": "code",
   "execution_count": 1,
   "metadata": {},
   "outputs": [],
   "source": [
    "def prepare_dataset(files, data_path):\n",
    "    \"\"\"\n",
    "    Prepare the dataset using the files provided\n",
    "    \"\"\"\n",
    "    from tqdm import tqdm\n",
    "\n",
    "    df = pd.DataFrame()\n",
    "    \n",
    "    for w_id in tqdm(files):\n",
    "        data_dir = os.path.join(data_path, w_id)\n",
    "        t = utils.load_modality(os.path.join(data_dir, w_id + '_pose_2d.npy'))\n",
    "        t2_frame = t.transpose(1,0,2).reshape(-1,38)\n",
    "        \n",
    "        # Creating nparray for ylabels\n",
    "        y = []\n",
    "        labels = utils.load_labels(os.path.join(data_dir, w_id + '_labels.csv'))\n",
    "        for label in tqdm(labels):\n",
    "            f1, f2, rep, lbl = label\n",
    "            for frame in range(f1, f2+1):\n",
    "                y.append([frame, d[lbl]])\n",
    "        y = np.array(y)\n",
    "        y_df = pd.DataFrame(y)\n",
    "\n",
    "        # Frame appears twice. Once at the beginning (index 0) and once at pos 19. We don't need the second one.\n",
    "        t2_df=pd.DataFrame(t2_frame).drop(19, axis=1)\n",
    "        # Removing noise from data \n",
    "        # We will only retain the rows in the dataframe for which we have labels available.\n",
    "        # Achieved with inner join\n",
    "        df = pd.concat([df,t2_df.merge(y_df, how='inner', on=0)])\n",
    "    return df"
   ]
  },
  {
   "cell_type": "markdown",
   "metadata": {},
   "source": [
    "## Building test/train files"
   ]
  },
  {
   "cell_type": "code",
   "execution_count": 10,
   "metadata": {},
   "outputs": [
    {
     "name": "stderr",
     "output_type": "stream",
     "text": [
      "  0%|                                                                                           | 0/16 [00:00<?, ?it/s]\n",
      "  0%|                                                                                           | 0/32 [00:00<?, ?it/s]\u001b[A\n",
      "100%|██████████████████████████████████████████████████████████████████████████████████| 32/32 [00:00<00:00, 79.82it/s]\u001b[A\n",
      "  6%|█████▏                                                                             | 1/16 [00:00<00:07,  1.89it/s]\n",
      "100%|████████████████████████████████████████████████████████████████████████████████| 30/30 [00:00<00:00, 4443.28it/s]\u001b[A\n",
      " 12%|██████████▍                                                                        | 2/16 [00:00<00:04,  3.32it/s]\n",
      "100%|████████████████████████████████████████████████████████████████████████████████| 30/30 [00:00<00:00, 3695.10it/s]\u001b[A\n",
      " 19%|███████████████▌                                                                   | 3/16 [00:00<00:02,  4.48it/s]\n",
      "100%|████████████████████████████████████████████████████████████████████████████████| 21/21 [00:00<00:00, 4625.10it/s]\u001b[A\n",
      " 25%|████████████████████▊                                                              | 4/16 [00:00<00:02,  5.40it/s]\n",
      "100%|████████████████████████████████████████████████████████████████████████████████| 30/30 [00:00<00:00, 5825.15it/s]\u001b[A\n",
      " 31%|█████████████████████████▉                                                         | 5/16 [00:01<00:01,  6.06it/s]\n",
      "100%|████████████████████████████████████████████████████████████████████████████████| 29/29 [00:00<00:00, 2420.21it/s]\u001b[A\n",
      " 38%|███████████████████████████████▏                                                   | 6/16 [00:01<00:01,  6.31it/s]\n",
      "100%|████████████████████████████████████████████████████████████████████████████████| 32/32 [00:00<00:00, 6364.35it/s]\u001b[A\n",
      " 44%|████████████████████████████████████▎                                              | 7/16 [00:01<00:01,  6.87it/s]\n",
      "100%|████████████████████████████████████████████████████████████████████████████████| 33/33 [00:00<00:00, 4619.43it/s]\u001b[A\n",
      " 50%|█████████████████████████████████████████▌                                         | 8/16 [00:01<00:01,  6.95it/s]\n",
      "100%|████████████████████████████████████████████████████████████████████████████████| 34/34 [00:00<00:00, 3227.34it/s]\u001b[A\n",
      " 56%|██████████████████████████████████████████████▋                                    | 9/16 [00:01<00:00,  7.32it/s]\n",
      "100%|████████████████████████████████████████████████████████████████████████████████| 30/30 [00:00<00:00, 4454.44it/s]\u001b[A\n",
      " 62%|███████████████████████████████████████████████████▎                              | 10/16 [00:01<00:00,  6.79it/s]\n",
      "  0%|                                                                                           | 0/30 [00:00<?, ?it/s]\u001b[A\n",
      "100%|██████████████████████████████████████████████████████████████████████████████████| 30/30 [00:00<00:00, 86.47it/s]\u001b[A\n",
      " 69%|████████████████████████████████████████████████████████▍                         | 11/16 [00:02<00:01,  4.02it/s]\n",
      "100%|████████████████████████████████████████████████████████████████████████████████| 30/30 [00:00<00:00, 5813.85it/s]\u001b[A\n",
      " 75%|█████████████████████████████████████████████████████████████▌                    | 12/16 [00:02<00:00,  4.66it/s]\n",
      "100%|████████████████████████████████████████████████████████████████████████████████| 26/26 [00:00<00:00, 4041.35it/s]\u001b[A\n",
      " 81%|██████████████████████████████████████████████████████████████████▋               | 13/16 [00:02<00:00,  5.50it/s]\n",
      "100%|████████████████████████████████████████████████████████████████████████████████| 27/27 [00:00<00:00, 1736.11it/s]\u001b[A\n",
      " 88%|███████████████████████████████████████████████████████████████████████▊          | 14/16 [00:02<00:00,  5.79it/s]\n",
      "100%|████████████████████████████████████████████████████████████████████████████████| 22/22 [00:00<00:00, 4146.62it/s]\u001b[A\n",
      " 94%|████████████████████████████████████████████████████████████████████████████▉     | 15/16 [00:02<00:00,  6.40it/s]\n",
      "100%|████████████████████████████████████████████████████████████████████████████████| 30/30 [00:00<00:00, 8398.69it/s]\u001b[A\n",
      "100%|██████████████████████████████████████████████████████████████████████████████████| 16/16 [00:02<00:00,  5.48it/s]\n",
      "  0%|                                                                                            | 0/4 [00:00<?, ?it/s]\n",
      "100%|████████████████████████████████████████████████████████████████████████████████| 30/30 [00:00<00:00, 4730.60it/s]\u001b[A\n",
      " 25%|█████████████████████                                                               | 1/4 [00:00<00:00,  9.81it/s]\n",
      "100%|████████████████████████████████████████████████████████████████████████████████| 30/30 [00:00<00:00, 1754.33it/s]\u001b[A\n",
      " 50%|██████████████████████████████████████████                                          | 2/4 [00:00<00:00,  8.56it/s]\n",
      "100%|████████████████████████████████████████████████████████████████████████████████| 30/30 [00:00<00:00, 5288.72it/s]\u001b[A\n",
      " 75%|███████████████████████████████████████████████████████████████                     | 3/4 [00:00<00:00,  8.06it/s]\n",
      "100%|████████████████████████████████████████████████████████████████████████████████| 30/30 [00:00<00:00, 5344.20it/s]\u001b[A\n",
      "100%|████████████████████████████████████████████████████████████████████████████████████| 4/4 [00:00<00:00,  8.42it/s]\n",
      "  0%|                                                                                            | 0/1 [00:00<?, ?it/s]\n",
      "100%|███████████████████████████████████████████████████████████████████████████████| 30/30 [00:00<00:00, 11771.83it/s]\u001b[A\n",
      "100%|████████████████████████████████████████████████████████████████████████████████████| 1/1 [00:00<00:00,  9.55it/s]"
     ]
    },
    {
     "name": "stdout",
     "output_type": "stream",
     "text": [
      "(285377, 38)\n",
      "(73833, 38)\n",
      "(14543, 38)\n"
     ]
    },
    {
     "name": "stderr",
     "output_type": "stream",
     "text": [
      "\n"
     ]
    }
   ],
   "source": [
    "train_files = ['01', '02', '03', '04', '06', '07', '08', '16', \n",
    "               '17', '18', '14', '15', '19', '20', '12', '13']\n",
    "train_file_names = list(map(lambda x : 'w' + x, train_files))\n",
    "test_files = ['05', '09', '10', '11']\n",
    "test_file_names = list(map(lambda x : 'w' + x, test_files))\n",
    "val_files = ['00']\n",
    "val_file_names = list(map(lambda x : 'w' + x, val_files))\n",
    "data_path = (r\"C:\\Users\\91790\\Desktop\\DeepFit-main\\DeepFit-main\\mm-fit\")\n",
    "\n",
    "train_df = prepare_dataset(train_file_names, data_path)\n",
    "test_df = prepare_dataset(test_file_names, data_path)\n",
    "val_df = prepare_dataset(val_file_names, data_path)\n",
    "print(train_df.shape)\n",
    "print(test_df.shape)\n",
    "print(val_df.shape)"
   ]
  },
  {
   "cell_type": "code",
   "execution_count": 11,
   "metadata": {},
   "outputs": [
    {
     "data": {
      "text/html": [
       "<div>\n",
       "<style scoped>\n",
       "    .dataframe tbody tr th:only-of-type {\n",
       "        vertical-align: middle;\n",
       "    }\n",
       "\n",
       "    .dataframe tbody tr th {\n",
       "        vertical-align: top;\n",
       "    }\n",
       "\n",
       "    .dataframe thead th {\n",
       "        text-align: right;\n",
       "    }\n",
       "</style>\n",
       "<table border=\"1\" class=\"dataframe\">\n",
       "  <thead>\n",
       "    <tr style=\"text-align: right;\">\n",
       "      <th></th>\n",
       "      <th>0</th>\n",
       "      <th>1_x</th>\n",
       "      <th>2</th>\n",
       "      <th>3</th>\n",
       "      <th>4</th>\n",
       "      <th>5</th>\n",
       "      <th>6</th>\n",
       "      <th>7</th>\n",
       "      <th>8</th>\n",
       "      <th>9</th>\n",
       "      <th>...</th>\n",
       "      <th>29</th>\n",
       "      <th>30</th>\n",
       "      <th>31</th>\n",
       "      <th>32</th>\n",
       "      <th>33</th>\n",
       "      <th>34</th>\n",
       "      <th>35</th>\n",
       "      <th>36</th>\n",
       "      <th>37</th>\n",
       "      <th>1_y</th>\n",
       "    </tr>\n",
       "  </thead>\n",
       "  <tbody>\n",
       "    <tr>\n",
       "      <th>0</th>\n",
       "      <td>2113.0</td>\n",
       "      <td>654.830</td>\n",
       "      <td>645.013</td>\n",
       "      <td>596.084</td>\n",
       "      <td>586.238</td>\n",
       "      <td>645.049</td>\n",
       "      <td>690.085</td>\n",
       "      <td>715.648</td>\n",
       "      <td>729.248</td>\n",
       "      <td>601.922</td>\n",
       "      <td>...</td>\n",
       "      <td>541.224</td>\n",
       "      <td>692.058</td>\n",
       "      <td>398.234</td>\n",
       "      <td>541.270</td>\n",
       "      <td>684.261</td>\n",
       "      <td>141.536</td>\n",
       "      <td>145.412</td>\n",
       "      <td>151.351</td>\n",
       "      <td>153.287</td>\n",
       "      <td>0</td>\n",
       "    </tr>\n",
       "    <tr>\n",
       "      <th>1</th>\n",
       "      <td>2114.0</td>\n",
       "      <td>652.972</td>\n",
       "      <td>645.013</td>\n",
       "      <td>596.068</td>\n",
       "      <td>586.238</td>\n",
       "      <td>647.039</td>\n",
       "      <td>690.085</td>\n",
       "      <td>717.521</td>\n",
       "      <td>729.276</td>\n",
       "      <td>601.872</td>\n",
       "      <td>...</td>\n",
       "      <td>541.224</td>\n",
       "      <td>692.069</td>\n",
       "      <td>400.164</td>\n",
       "      <td>541.270</td>\n",
       "      <td>684.265</td>\n",
       "      <td>141.559</td>\n",
       "      <td>145.413</td>\n",
       "      <td>151.414</td>\n",
       "      <td>153.355</td>\n",
       "      <td>0</td>\n",
       "    </tr>\n",
       "    <tr>\n",
       "      <th>2</th>\n",
       "      <td>2115.0</td>\n",
       "      <td>652.972</td>\n",
       "      <td>645.013</td>\n",
       "      <td>596.068</td>\n",
       "      <td>586.255</td>\n",
       "      <td>648.867</td>\n",
       "      <td>690.088</td>\n",
       "      <td>723.402</td>\n",
       "      <td>729.290</td>\n",
       "      <td>599.967</td>\n",
       "      <td>...</td>\n",
       "      <td>541.235</td>\n",
       "      <td>692.077</td>\n",
       "      <td>402.130</td>\n",
       "      <td>541.270</td>\n",
       "      <td>684.265</td>\n",
       "      <td>145.465</td>\n",
       "      <td>147.368</td>\n",
       "      <td>157.229</td>\n",
       "      <td>161.073</td>\n",
       "      <td>0</td>\n",
       "    </tr>\n",
       "    <tr>\n",
       "      <th>3</th>\n",
       "      <td>2116.0</td>\n",
       "      <td>652.972</td>\n",
       "      <td>645.013</td>\n",
       "      <td>596.068</td>\n",
       "      <td>586.265</td>\n",
       "      <td>648.918</td>\n",
       "      <td>690.088</td>\n",
       "      <td>725.313</td>\n",
       "      <td>729.392</td>\n",
       "      <td>598.040</td>\n",
       "      <td>...</td>\n",
       "      <td>550.976</td>\n",
       "      <td>692.091</td>\n",
       "      <td>413.893</td>\n",
       "      <td>545.177</td>\n",
       "      <td>684.275</td>\n",
       "      <td>147.526</td>\n",
       "      <td>149.386</td>\n",
       "      <td>163.164</td>\n",
       "      <td>164.981</td>\n",
       "      <td>0</td>\n",
       "    </tr>\n",
       "    <tr>\n",
       "      <th>4</th>\n",
       "      <td>2117.0</td>\n",
       "      <td>652.972</td>\n",
       "      <td>645.080</td>\n",
       "      <td>596.084</td>\n",
       "      <td>586.278</td>\n",
       "      <td>648.922</td>\n",
       "      <td>690.119</td>\n",
       "      <td>725.313</td>\n",
       "      <td>731.223</td>\n",
       "      <td>594.121</td>\n",
       "      <td>...</td>\n",
       "      <td>554.898</td>\n",
       "      <td>693.971</td>\n",
       "      <td>423.685</td>\n",
       "      <td>552.984</td>\n",
       "      <td>684.284</td>\n",
       "      <td>157.246</td>\n",
       "      <td>159.194</td>\n",
       "      <td>169.011</td>\n",
       "      <td>170.942</td>\n",
       "      <td>0</td>\n",
       "    </tr>\n",
       "  </tbody>\n",
       "</table>\n",
       "<p>5 rows × 38 columns</p>\n",
       "</div>"
      ],
      "text/plain": [
       "        0      1_x        2        3        4        5        6        7  \\\n",
       "0  2113.0  654.830  645.013  596.084  586.238  645.049  690.085  715.648   \n",
       "1  2114.0  652.972  645.013  596.068  586.238  647.039  690.085  717.521   \n",
       "2  2115.0  652.972  645.013  596.068  586.255  648.867  690.088  723.402   \n",
       "3  2116.0  652.972  645.013  596.068  586.265  648.918  690.088  725.313   \n",
       "4  2117.0  652.972  645.080  596.084  586.278  648.922  690.119  725.313   \n",
       "\n",
       "         8        9  ...       29       30       31       32       33  \\\n",
       "0  729.248  601.922  ...  541.224  692.058  398.234  541.270  684.261   \n",
       "1  729.276  601.872  ...  541.224  692.069  400.164  541.270  684.265   \n",
       "2  729.290  599.967  ...  541.235  692.077  402.130  541.270  684.265   \n",
       "3  729.392  598.040  ...  550.976  692.091  413.893  545.177  684.275   \n",
       "4  731.223  594.121  ...  554.898  693.971  423.685  552.984  684.284   \n",
       "\n",
       "        34       35       36       37  1_y  \n",
       "0  141.536  145.412  151.351  153.287    0  \n",
       "1  141.559  145.413  151.414  153.355    0  \n",
       "2  145.465  147.368  157.229  161.073    0  \n",
       "3  147.526  149.386  163.164  164.981    0  \n",
       "4  157.246  159.194  169.011  170.942    0  \n",
       "\n",
       "[5 rows x 38 columns]"
      ]
     },
     "execution_count": 11,
     "metadata": {},
     "output_type": "execute_result"
    }
   ],
   "source": [
    "train_df.head()"
   ]
  },
  {
   "cell_type": "code",
   "execution_count": 12,
   "metadata": {},
   "outputs": [
    {
     "data": {
      "text/html": [
       "<div>\n",
       "<style scoped>\n",
       "    .dataframe tbody tr th:only-of-type {\n",
       "        vertical-align: middle;\n",
       "    }\n",
       "\n",
       "    .dataframe tbody tr th {\n",
       "        vertical-align: top;\n",
       "    }\n",
       "\n",
       "    .dataframe thead th {\n",
       "        text-align: right;\n",
       "    }\n",
       "</style>\n",
       "<table border=\"1\" class=\"dataframe\">\n",
       "  <thead>\n",
       "    <tr style=\"text-align: right;\">\n",
       "      <th></th>\n",
       "      <th>0</th>\n",
       "      <th>1_x</th>\n",
       "      <th>2</th>\n",
       "      <th>3</th>\n",
       "      <th>4</th>\n",
       "      <th>5</th>\n",
       "      <th>6</th>\n",
       "      <th>7</th>\n",
       "      <th>8</th>\n",
       "      <th>9</th>\n",
       "      <th>...</th>\n",
       "      <th>29</th>\n",
       "      <th>30</th>\n",
       "      <th>31</th>\n",
       "      <th>32</th>\n",
       "      <th>33</th>\n",
       "      <th>34</th>\n",
       "      <th>35</th>\n",
       "      <th>36</th>\n",
       "      <th>37</th>\n",
       "      <th>1_y</th>\n",
       "    </tr>\n",
       "  </thead>\n",
       "  <tbody>\n",
       "    <tr>\n",
       "      <th>0</th>\n",
       "      <td>2830.0</td>\n",
       "      <td>554.996</td>\n",
       "      <td>556.818</td>\n",
       "      <td>494.154</td>\n",
       "      <td>449.190</td>\n",
       "      <td>478.490</td>\n",
       "      <td>619.509</td>\n",
       "      <td>660.750</td>\n",
       "      <td>633.292</td>\n",
       "      <td>519.641</td>\n",
       "      <td>...</td>\n",
       "      <td>519.693</td>\n",
       "      <td>654.888</td>\n",
       "      <td>396.193</td>\n",
       "      <td>509.893</td>\n",
       "      <td>654.865</td>\n",
       "      <td>151.430</td>\n",
       "      <td>151.433</td>\n",
       "      <td>151.394</td>\n",
       "      <td>153.295</td>\n",
       "      <td>0</td>\n",
       "    </tr>\n",
       "    <tr>\n",
       "      <th>1</th>\n",
       "      <td>2831.0</td>\n",
       "      <td>554.996</td>\n",
       "      <td>556.818</td>\n",
       "      <td>494.154</td>\n",
       "      <td>449.190</td>\n",
       "      <td>478.525</td>\n",
       "      <td>617.632</td>\n",
       "      <td>660.750</td>\n",
       "      <td>631.255</td>\n",
       "      <td>519.687</td>\n",
       "      <td>...</td>\n",
       "      <td>519.693</td>\n",
       "      <td>656.775</td>\n",
       "      <td>398.133</td>\n",
       "      <td>509.893</td>\n",
       "      <td>656.840</td>\n",
       "      <td>163.141</td>\n",
       "      <td>163.163</td>\n",
       "      <td>163.141</td>\n",
       "      <td>163.139</td>\n",
       "      <td>0</td>\n",
       "    </tr>\n",
       "    <tr>\n",
       "      <th>2</th>\n",
       "      <td>2832.0</td>\n",
       "      <td>554.996</td>\n",
       "      <td>556.886</td>\n",
       "      <td>494.297</td>\n",
       "      <td>449.190</td>\n",
       "      <td>490.223</td>\n",
       "      <td>617.632</td>\n",
       "      <td>660.709</td>\n",
       "      <td>617.672</td>\n",
       "      <td>519.687</td>\n",
       "      <td>...</td>\n",
       "      <td>519.693</td>\n",
       "      <td>656.784</td>\n",
       "      <td>404.078</td>\n",
       "      <td>511.825</td>\n",
       "      <td>658.786</td>\n",
       "      <td>190.483</td>\n",
       "      <td>188.608</td>\n",
       "      <td>192.519</td>\n",
       "      <td>190.508</td>\n",
       "      <td>0</td>\n",
       "    </tr>\n",
       "    <tr>\n",
       "      <th>3</th>\n",
       "      <td>2833.0</td>\n",
       "      <td>554.996</td>\n",
       "      <td>556.895</td>\n",
       "      <td>496.123</td>\n",
       "      <td>449.190</td>\n",
       "      <td>490.224</td>\n",
       "      <td>617.632</td>\n",
       "      <td>660.704</td>\n",
       "      <td>617.672</td>\n",
       "      <td>521.608</td>\n",
       "      <td>...</td>\n",
       "      <td>519.693</td>\n",
       "      <td>656.836</td>\n",
       "      <td>404.083</td>\n",
       "      <td>511.826</td>\n",
       "      <td>658.786</td>\n",
       "      <td>190.484</td>\n",
       "      <td>188.609</td>\n",
       "      <td>192.519</td>\n",
       "      <td>190.508</td>\n",
       "      <td>0</td>\n",
       "    </tr>\n",
       "    <tr>\n",
       "      <th>4</th>\n",
       "      <td>2834.0</td>\n",
       "      <td>556.809</td>\n",
       "      <td>556.897</td>\n",
       "      <td>496.193</td>\n",
       "      <td>453.055</td>\n",
       "      <td>494.220</td>\n",
       "      <td>617.632</td>\n",
       "      <td>658.763</td>\n",
       "      <td>613.705</td>\n",
       "      <td>521.628</td>\n",
       "      <td>...</td>\n",
       "      <td>519.694</td>\n",
       "      <td>656.838</td>\n",
       "      <td>415.799</td>\n",
       "      <td>513.799</td>\n",
       "      <td>658.786</td>\n",
       "      <td>204.253</td>\n",
       "      <td>204.261</td>\n",
       "      <td>208.187</td>\n",
       "      <td>208.118</td>\n",
       "      <td>0</td>\n",
       "    </tr>\n",
       "  </tbody>\n",
       "</table>\n",
       "<p>5 rows × 38 columns</p>\n",
       "</div>"
      ],
      "text/plain": [
       "        0      1_x        2        3        4        5        6        7  \\\n",
       "0  2830.0  554.996  556.818  494.154  449.190  478.490  619.509  660.750   \n",
       "1  2831.0  554.996  556.818  494.154  449.190  478.525  617.632  660.750   \n",
       "2  2832.0  554.996  556.886  494.297  449.190  490.223  617.632  660.709   \n",
       "3  2833.0  554.996  556.895  496.123  449.190  490.224  617.632  660.704   \n",
       "4  2834.0  556.809  556.897  496.193  453.055  494.220  617.632  658.763   \n",
       "\n",
       "         8        9  ...       29       30       31       32       33  \\\n",
       "0  633.292  519.641  ...  519.693  654.888  396.193  509.893  654.865   \n",
       "1  631.255  519.687  ...  519.693  656.775  398.133  509.893  656.840   \n",
       "2  617.672  519.687  ...  519.693  656.784  404.078  511.825  658.786   \n",
       "3  617.672  521.608  ...  519.693  656.836  404.083  511.826  658.786   \n",
       "4  613.705  521.628  ...  519.694  656.838  415.799  513.799  658.786   \n",
       "\n",
       "        34       35       36       37  1_y  \n",
       "0  151.430  151.433  151.394  153.295    0  \n",
       "1  163.141  163.163  163.141  163.139    0  \n",
       "2  190.483  188.608  192.519  190.508    0  \n",
       "3  190.484  188.609  192.519  190.508    0  \n",
       "4  204.253  204.261  208.187  208.118    0  \n",
       "\n",
       "[5 rows x 38 columns]"
      ]
     },
     "execution_count": 12,
     "metadata": {},
     "output_type": "execute_result"
    }
   ],
   "source": [
    "test_df.head()"
   ]
  },
  {
   "cell_type": "markdown",
   "metadata": {},
   "source": [
    "## Saving train, test, val set"
   ]
  },
  {
   "cell_type": "code",
   "execution_count": 14,
   "metadata": {},
   "outputs": [],
   "source": [
    "import os\n",
    "import numpy as np\n",
    "\n",
    "# Create the data directory if it doesn't exist\n",
    "if not os.path.exists('data'):\n",
    "    os.makedirs('data')\n",
    "\n",
    "# Saving X data for training and testing \n",
    "np.savetxt(\n",
    "    'data/X_train.txt',\n",
    "    train_df.iloc[:,1:-1].values,\n",
    "    fmt='%1.3f',\n",
    "    delimiter=','\n",
    ")\n",
    "\n",
    "np.savetxt(\n",
    "    'data/X_test.txt',\n",
    "    test_df.iloc[:,1:-1].values,\n",
    "    fmt='%1.3f',\n",
    "    delimiter=','\n",
    ")\n",
    "\n",
    "np.savetxt(\n",
    "    'data/X_val.txt',\n",
    "    val_df.iloc[:,1:-1].values,\n",
    "    fmt='%1.3f',\n",
    "    delimiter=','\n",
    ")\n"
   ]
  },
  {
   "cell_type": "code",
   "execution_count": 15,
   "metadata": {},
   "outputs": [],
   "source": [
    "# Saving X data for training and testing \n",
    "np.savetxt(\n",
    "    'data/X_train.txt',\n",
    "    train_df.iloc[:,1:-1].values,\n",
    "    fmt = '%1.3f',\n",
    "    delimiter = ','\n",
    ")\n",
    "np.savetxt(\n",
    "    'data/X_test.txt',\n",
    "    test_df.iloc[:,1:-1].values,\n",
    "    fmt = '%1.3f',\n",
    "    delimiter = ','\n",
    ")\n",
    "np.savetxt(\n",
    "    'data/X_val.txt',\n",
    "    val_df.iloc[:,1:-1].values,\n",
    "    fmt = '%1.3f',\n",
    "    delimiter = ','\n",
    ")"
   ]
  },
  {
   "cell_type": "code",
   "execution_count": 16,
   "metadata": {},
   "outputs": [],
   "source": [
    "# Saving Y data for training and testing\n",
    "np.savetxt(\n",
    "    'data/Y_train.txt',\n",
    "    train_df.iloc[:,-1].values,\n",
    "    fmt = '%d',\n",
    "    delimiter = ','\n",
    ")\n",
    "np.savetxt(\n",
    "    'data/Y_test.txt',\n",
    "    test_df.iloc[:,-1].values,\n",
    "    fmt = '%d',\n",
    "    delimiter = ','\n",
    ")\n",
    "np.savetxt(\n",
    "    'data/Y_val.txt',\n",
    "    val_df.iloc[:,-1].values,\n",
    "    fmt = '%d',\n",
    "    delimiter = ','\n",
    ")"
   ]
  },
  {
   "cell_type": "markdown",
   "metadata": {},
   "source": [
    "## Data Loading Functions"
   ]
  },
  {
   "cell_type": "code",
   "execution_count": 17,
   "metadata": {
    "executionInfo": {
     "elapsed": 6,
     "status": "ok",
     "timestamp": 1650476474326,
     "user": {
      "displayName": "Naman Arora",
      "userId": "05431509508560644189"
     },
     "user_tz": 240
    },
    "id": "RMa2AfPiDb7V"
   },
   "outputs": [],
   "source": [
    "def load_X(X_path):\n",
    "    file = open(X_path, 'r')\n",
    "    X_ = np.array(\n",
    "        [elem for elem in [\n",
    "            row.split(',') for row in file\n",
    "        ]], \n",
    "        dtype=np.float32\n",
    "    )\n",
    "    file.close()\n",
    "    return X_\n",
    "\n",
    "def load_Y(y_path):\n",
    "    file = open(y_path, 'r')\n",
    "    y_ = np.array(\n",
    "        [elem for elem in [\n",
    "            row.replace('  ', ' ').strip().split(' ') for row in file\n",
    "        ]], \n",
    "        dtype=np.int32\n",
    "    )\n",
    "    file.close()\n",
    "    return y_"
   ]
  },
  {
   "cell_type": "markdown",
   "metadata": {},
   "source": [
    "## Estimation functions"
   ]
  },
  {
   "cell_type": "code",
   "execution_count": 18,
   "metadata": {
    "executionInfo": {
     "elapsed": 200,
     "status": "ok",
     "timestamp": 1650476477659,
     "user": {
      "displayName": "Naman Arora",
      "userId": "05431509508560644189"
     },
     "user_tz": 240
    },
    "id": "Q0Gf3JY4Db7a"
   },
   "outputs": [],
   "source": [
    "def euclidean_dist(a, b):\n",
    "    # This function calculates the euclidean distance between 2 point in 2-D coordinates\n",
    "    # if one of two points is (0,0), dist = 0\n",
    "    # a, b: input array with dimension: m, 2\n",
    "    # m: number of samples\n",
    "    # 2: x and y coordinate\n",
    "    try:\n",
    "        if (a.shape[1] == 2 and a.shape == b.shape):\n",
    "            # check if element of a and b is (0,0)\n",
    "            bol_a = (a[:,0] != 0).astype(int)\n",
    "            bol_b = (b[:,0] != 0).astype(int)\n",
    "            dist = np.linalg.norm(a-b, axis=1)\n",
    "            return((dist*bol_a*bol_b).reshape(a.shape[0],1))\n",
    "    except:\n",
    "        print(\"[Error]: Check dimension of input vector\")\n",
    "        return 0"
   ]
  },
  {
   "cell_type": "markdown",
   "metadata": {},
   "source": [
    "## Normalization"
   ]
  },
  {
   "cell_type": "code",
   "execution_count": 19,
   "metadata": {
    "executionInfo": {
     "elapsed": 483,
     "status": "ok",
     "timestamp": 1650476481263,
     "user": {
      "displayName": "Naman Arora",
      "userId": "05431509508560644189"
     },
     "user_tz": 240
    },
    "id": "wKXRJKkqDb7c"
   },
   "outputs": [],
   "source": [
    "def norm_X(X):\n",
    "    num_sample = X.shape[0]\n",
    "    # Keypoints\n",
    "    Nose = X[:,0*2:0*2+2]\n",
    "    Neck = X[:,1*2:1*2+2]\n",
    "    RShoulder = X[:,2*2:2*2+2]\n",
    "    RElbow = X[:,3*2:3*2+2]\n",
    "    RWrist = X[:,4*2:4*2+2]\n",
    "    LShoulder = X[:,5*2:5*2+2]\n",
    "    LElbow = X[:,6*2:6*2+2]\n",
    "    LWrist = X[:,7*2:7*2+2]\n",
    "    RHip = X[:,8*2:8*2+2]\n",
    "    RKnee = X[:,9*2:9*2+2]\n",
    "    RAnkle = X[:,10*2:10*2+2]\n",
    "    LHip = X[:,11*2:11*2+2]\n",
    "    LKnee = X[:,12*2:12*2+2]\n",
    "    LAnkle = X[:,13*2:13*2+2]\n",
    "    REye = X[:,14*2:14*2+2]\n",
    "    LEye = X[:,15*2:15*2+2]\n",
    "    REar = X[:,16*2:16*2+2]\n",
    "    LEar = X[:,17*2:17*2+2]\n",
    "\n",
    "    # Length of head\n",
    "    length_Neck_LEar = euclidean_dist(Neck, LEar)\n",
    "    length_Neck_REar = euclidean_dist(Neck, REar)\n",
    "    length_Neck_LEye = euclidean_dist(Neck, LEye)\n",
    "    length_Neck_REye = euclidean_dist(Neck, REye)\n",
    "    length_Nose_LEar = euclidean_dist(Nose, LEar)\n",
    "    length_Nose_REar = euclidean_dist(Nose, REar)\n",
    "    length_Nose_LEye = euclidean_dist(Nose, LEye)\n",
    "    length_Nose_REye = euclidean_dist(Nose, REye)\n",
    "    length_head      = np.maximum.reduce([length_Neck_LEar, length_Neck_REar, length_Neck_LEye, length_Neck_REye, \\\n",
    "                                 length_Nose_LEar, length_Nose_REar, length_Nose_LEye, length_Nose_REye])\n",
    "    #length_head      = np.sqrt(np.square((LEye[:,0:1]+REye[:,0:1])/2 - Neck[:,0:1]) + np.square((LEye[:,1:2]+REye[:,1:2])/2 - Neck[:,1:2]))\n",
    "\n",
    "    # Length of torso\n",
    "    length_Neck_LHip = euclidean_dist(Neck, LHip)\n",
    "    length_Neck_RHip = euclidean_dist(Neck, RHip)\n",
    "    length_torso     = np.maximum(length_Neck_LHip, length_Neck_RHip)\n",
    "    #length_torso     = np.sqrt(np.square(Neck[:,0:1]-(LHip[:,0:1]+RHip[:,0:1])/2) + np.square(Neck[:,1:2]-(LHip[:,1:2]+RHip[:,1:2])/2))\n",
    "\n",
    "    # Length of right leg\n",
    "    length_leg_right = euclidean_dist(RHip, RKnee) + euclidean_dist(RKnee, RAnkle)\n",
    "    #length_leg_right = np.sqrt(np.square(RHip[:,0:1]-RKnee[:,0:1]) + np.square(RHip[:,1:2]-RKnee[:,1:2])) \\\n",
    "    #+ np.sqrt(np.square(RKnee[:,0:1]-RAnkle[:,0:1]) + np.square(RKnee[:,1:2]-RAnkle[:,1:2]))\n",
    "\n",
    "    # Length of left leg\n",
    "    length_leg_left = euclidean_dist(LHip, LKnee) + euclidean_dist(LKnee, LAnkle)\n",
    "    #length_leg_left = np.sqrt(np.square(LHip[:,0:1]-LKnee[:,0:1]) + np.square(LHip[:,1:2]-LKnee[:,1:2])) \\\n",
    "    #+ np.sqrt(np.square(LKnee[:,0:1]-LAnkle[:,0:1]) + np.square(LKnee[:,1:2]-LAnkle[:,1:2]))\n",
    "\n",
    "    # Length of leg\n",
    "    length_leg = np.maximum(length_leg_right, length_leg_left)\n",
    "\n",
    "    # Length of body\n",
    "    length_body = length_head + length_torso + length_leg\n",
    "    \n",
    "    # Check all samples have length_body of 0\n",
    "    length_chk = (length_body > 0).astype(int)\n",
    "    \n",
    "    # Check keypoints at origin\n",
    "    keypoints_chk = (X > 0).astype(int)\n",
    "    \n",
    "    chk = length_chk * keypoints_chk\n",
    "    \n",
    "    # Set all length_body of 0 to 1 (to avoid division by 0)\n",
    "    length_body[length_body == 0] = 1\n",
    "    \n",
    "    # The center of gravity\n",
    "    # number of point OpenPose locates:\n",
    "    num_pts = (X[:, 0::2] > 0).sum(1).reshape(num_sample,1)\n",
    "    centr_x = X[:, 0::2].sum(1).reshape(num_sample,1) / num_pts\n",
    "    centr_y = X[:, 1::2].sum(1).reshape(num_sample,1) / num_pts\n",
    "\n",
    "    # The  coordinates  are  normalized relative to the length of the body and the center of gravity\n",
    "    X_norm_x = (X[:, 0::2] - centr_x) / length_body\n",
    "    X_norm_y = (X[:, 1::2] - centr_y) / length_body\n",
    "    \n",
    "    # Stack 1st element x and y together\n",
    "    X_norm = np.column_stack((X_norm_x[:,:1], X_norm_y[:,:1]))\n",
    "        \n",
    "    for i in range(1, X.shape[1]//2):\n",
    "        X_norm = np.column_stack((X_norm, X_norm_x[:,i:i+1], X_norm_y[:,i:i+1]))\n",
    "    \n",
    "    # Set all samples have length_body of 0 to origin (0, 0)\n",
    "    X_norm = X_norm * chk\n",
    "    \n",
    "    return X_norm"
   ]
  },
  {
   "cell_type": "markdown",
   "metadata": {},
   "source": [
    "## Plotting Functions"
   ]
  },
  {
   "cell_type": "code",
   "execution_count": 20,
   "metadata": {
    "executionInfo": {
     "elapsed": 427,
     "status": "ok",
     "timestamp": 1650476483446,
     "user": {
      "displayName": "Naman Arora",
      "userId": "05431509508560644189"
     },
     "user_tz": 240
    },
    "id": "eKPdMIB2Db7f"
   },
   "outputs": [],
   "source": [
    "def plot_line(a, b):\n",
    "    if (a.any()> 0 and b.any()>0): plt.plot([a[0], b[0]], [a[1], b[1]], 'k-')\n",
    "        \n",
    "def plot_skeleton(sample, pattern):\n",
    "    for i in range(len(sample)//2):\n",
    "        plt.plot(sample[i*2], sample[i*2+1], pattern) \n",
    "    skeleton = sample.reshape(1, 36)\n",
    "    Nose = skeleton[:,0*2:0*2+2][0]\n",
    "    Neck = skeleton[:,1*2:1*2+2][0]\n",
    "    RShoulder = skeleton[:,2*2:2*2+2][0]\n",
    "    RElbow = skeleton[:,3*2:3*2+2][0]\n",
    "    RWrist = skeleton[:,4*2:4*2+2][0]\n",
    "    LShoulder = skeleton[:,5*2:5*2+2][0]\n",
    "    LElbow = skeleton[:,6*2:6*2+2][0]\n",
    "    LWrist = skeleton[:,7*2:7*2+2][0]\n",
    "    RHip = skeleton[:,8*2:8*2+2][0]\n",
    "    RKnee = skeleton[:,9*2:9*2+2][0]\n",
    "    RAnkle = skeleton[:,10*2:10*2+2][0]\n",
    "    LHip = skeleton[:,11*2:11*2+2][0]\n",
    "    LKnee = skeleton[:,12*2:12*2+2][0]\n",
    "    LAnkle = skeleton[:,13*2:13*2+2][0]\n",
    "    REye = skeleton[:,14*2:14*2+2][0]\n",
    "    LEye = skeleton[:,15*2:15*2+2][0]\n",
    "    REar = skeleton[:,16*2:16*2+2][0]\n",
    "    LEar = skeleton[:,17*2:17*2+2][0]\n",
    "    #Nose = sample.reshape(1, 36)[:,0*2:0*2+2][0]\n",
    "    #Neck = sample.reshape(1, 36)[:,1*2:1*2+2][0]\n",
    "    plot_line(LEar, LEye)\n",
    "    plot_line(LEye, Nose)\n",
    "    plot_line(REar, REye)\n",
    "    plot_line(REye, Nose)\n",
    "    plot_line(Nose, Neck)\n",
    "    plot_line(Neck, LShoulder)\n",
    "    plot_line(LShoulder, LElbow)\n",
    "    plot_line(LElbow, LWrist)\n",
    "    plot_line(Neck, RShoulder)\n",
    "    plot_line(RShoulder, RElbow)\n",
    "    plot_line(RElbow, RWrist)\n",
    "    plot_line(Neck, LHip)\n",
    "    plot_line(LHip, LKnee)\n",
    "    plot_line(LKnee, LAnkle)\n",
    "    plot_line(Neck, RHip)\n",
    "    plot_line(RHip, RKnee)\n",
    "    plot_line(RKnee, RAnkle)\n",
    "    \n",
    "def plot(sample):\n",
    "    # sample is one-dimension array\n",
    "    # e.g: (36,)\n",
    "    if sample.shape[0] == 36:\n",
    "        sample_norm = norm_X(sample.reshape(1,36))[0]\n",
    "\n",
    "        # Plot original coordinates\n",
    "        pad_ori = 40\n",
    "        plt.figure(str(sample))\n",
    "        plt.subplot(121)\n",
    "        plt.title('Original skeleton')\n",
    "        X_ori = sample\n",
    "        x_max = max(X_ori[0::2]) + pad_ori\n",
    "        x_min = min(i for i in X_ori[0::2] if i > 0) - pad_ori\n",
    "        y_max = max(X_ori[1::2]) + pad_ori\n",
    "        y_min = min(j for j in X_ori[1::2] if j > 0) - pad_ori\n",
    "        plt.xlim(x_min,x_max)\n",
    "        plt.ylim(y_max, y_min)\n",
    "        plot_skeleton(X_ori, 'bo')\n",
    "\n",
    "        # Plot normalized coordinates\n",
    "        pad_nor = 0.2\n",
    "        #plt.figure(2)\n",
    "        plt.subplot(122)\n",
    "        plt.title('Normalized skeleton')\n",
    "        X_nor = sample_norm\n",
    "        x_max = max(X_nor[0::2]) + pad_nor\n",
    "        x_min = min(X_nor[0::2]) - pad_nor\n",
    "        y_max = max(X_nor[1::2]) + pad_nor\n",
    "        y_min = min(X_nor[1::2]) - pad_nor\n",
    "        plt.xlim(x_min,x_max)\n",
    "        plt.ylim(y_max, y_min)\n",
    "        plot_skeleton(X_nor, 'ro')\n",
    "    else:\n",
    "        print(\"sample is one-dimension array: (36,)\")"
   ]
  },
  {
   "cell_type": "markdown",
   "metadata": {},
   "source": [
    "# Model Training"
   ]
  },
  {
   "cell_type": "code",
   "execution_count": 21,
   "metadata": {
    "colab": {
     "base_uri": "https://localhost:8080/"
    },
    "executionInfo": {
     "elapsed": 439,
     "status": "ok",
     "timestamp": 1650476968891,
     "user": {
      "displayName": "Naman Arora",
      "userId": "05431509508560644189"
     },
     "user_tz": 240
    },
    "id": "nir998eHDb7h",
    "outputId": "4c56f54e-d051-43bb-f6af-9855a3176bb4"
   },
   "outputs": [
    {
     "name": "stdout",
     "output_type": "stream",
     "text": [
      "Model: \"sequential\"\n",
      "_________________________________________________________________\n",
      " Layer (type)                Output Shape              Param #   \n",
      "=================================================================\n",
      " dense (Dense)               (None, 64)                2368      \n",
      "                                                                 \n",
      " dropout (Dropout)           (None, 64)                0         \n",
      "                                                                 \n",
      " dense_1 (Dense)             (None, 32)                2080      \n",
      "                                                                 \n",
      " dropout_1 (Dropout)         (None, 32)                0         \n",
      "                                                                 \n",
      " dense_2 (Dense)             (None, 16)                528       \n",
      "                                                                 \n",
      " dropout_2 (Dropout)         (None, 16)                0         \n",
      "                                                                 \n",
      " dense_3 (Dense)             (None, 10)                170       \n",
      "                                                                 \n",
      "=================================================================\n",
      "Total params: 5146 (20.10 KB)\n",
      "Trainable params: 5146 (20.10 KB)\n",
      "Non-trainable params: 0 (0.00 Byte)\n",
      "_________________________________________________________________\n"
     ]
    }
   ],
   "source": [
    "# Create a model\n",
    "model = keras.Sequential([\n",
    "    keras.layers.Dense(64, activation='sigmoid', input_shape=(36,)),\n",
    "    keras.layers.Dropout(0.5),\n",
    "    keras.layers.Dense(32, activation='sigmoid'),\n",
    "    keras.layers.Dropout(0.5),\n",
    "    keras.layers.Dense(16, activation='sigmoid'),\n",
    "    keras.layers.Dropout(0.5),\n",
    "    keras.layers.Dense(10, activation='softmax')\n",
    "])\n",
    "model.summary()\n",
    "\n",
    "# plot training log\n",
    "def plot_history(history):\n",
    "    history_dict = history.history\n",
    "    history_dict.keys()\n",
    "    acc = history.history['accuracy']\n",
    "    val_acc = history.history['val_accuracy']\n",
    "    loss = history.history['loss']\n",
    "    val_loss = history.history['val_loss']\n",
    "\n",
    "    epochs = range(1, len(acc) + 1)\n",
    "\n",
    "    plt.figure(figsize=(16, 9), dpi=80)\n",
    "    # \"bo\" is for \"blue dot\"\n",
    "    plt.plot(epochs, loss, 'bo', label='Training loss')\n",
    "    plt.plot(epochs, acc, 'b', label='Training accuracy')\n",
    "    # b is for \"solid blue line\"\n",
    "    plt.plot(epochs, val_loss, 'ro', label='Validation loss')\n",
    "    plt.plot(epochs, val_acc, 'r', label='Validation accuracy')\n",
    "    plt.title('Training and validation loss/acc')\n",
    "    plt.xlabel('Epochs')\n",
    "    plt.ylabel('Loss')\n",
    "    plt.legend()"
   ]
  },
  {
   "cell_type": "code",
   "execution_count": 22,
   "metadata": {
    "colab": {
     "base_uri": "https://localhost:8080/"
    },
    "executionInfo": {
     "elapsed": 496,
     "status": "ok",
     "timestamp": 1650476502476,
     "user": {
      "displayName": "Naman Arora",
      "userId": "05431509508560644189"
     },
     "user_tz": 240
    },
    "id": "YK9chzV4Db7i",
    "outputId": "99115264-f2fa-4fb4-fefe-ee303cd4fa32"
   },
   "outputs": [],
   "source": [
    "model.compile(loss=keras.losses.sparse_categorical_crossentropy, optimizer=keras.optimizers.Adam(learning_rate=0.01), metrics=['accuracy'])"
   ]
  },
  {
   "cell_type": "code",
   "execution_count": 23,
   "metadata": {
    "executionInfo": {
     "elapsed": 528,
     "status": "ok",
     "timestamp": 1650476547818,
     "user": {
      "displayName": "Naman Arora",
      "userId": "05431509508560644189"
     },
     "user_tz": 240
    },
    "id": "HnmPW_SoDb7j"
   },
   "outputs": [],
   "source": [
    "# Load and norminalize dataset\n",
    "X_train = load_X('data/X_train.txt')\n",
    "Y_train = load_Y('data/Y_train.txt')\n",
    "X_train_norm = norm_X(X_train)\n",
    "\n",
    "X_test = load_X('data/X_test.txt')\n",
    "Y_test = load_Y('data/Y_test.txt')\n",
    "X_test_norm = norm_X(X_test)\n",
    "\n",
    "X_val = load_X('data/X_val.txt')\n",
    "Y_val = load_Y('data/Y_val.txt')\n",
    "X_val_norm = norm_X(X_val)"
   ]
  },
  {
   "cell_type": "code",
   "execution_count": 24,
   "metadata": {
    "colab": {
     "base_uri": "https://localhost:8080/"
    },
    "executionInfo": {
     "elapsed": 262913,
     "status": "ok",
     "timestamp": 1650476814364,
     "user": {
      "displayName": "Naman Arora",
      "userId": "05431509508560644189"
     },
     "user_tz": 240
    },
    "id": "IHe4tqcWDb7k",
    "outputId": "e6903a24-cc70-47fd-9a92-101943dcb886",
    "scrolled": true
   },
   "outputs": [
    {
     "name": "stdout",
     "output_type": "stream",
     "text": [
      "Epoch 1/20\n",
      "4460/4460 [==============================] - 10s 2ms/step - loss: 1.3825 - accuracy: 0.4360 - val_loss: 0.7893 - val_accuracy: 0.7102\n",
      "Epoch 2/20\n",
      "4460/4460 [==============================] - 8s 2ms/step - loss: 0.9593 - accuracy: 0.6176 - val_loss: 0.6129 - val_accuracy: 0.7860\n",
      "Epoch 3/20\n",
      "4460/4460 [==============================] - 8s 2ms/step - loss: 0.8702 - accuracy: 0.6569 - val_loss: 0.5494 - val_accuracy: 0.8080\n",
      "Epoch 4/20\n",
      "4460/4460 [==============================] - 8s 2ms/step - loss: 0.8203 - accuracy: 0.6743 - val_loss: 0.4980 - val_accuracy: 0.8213\n",
      "Epoch 5/20\n",
      "4460/4460 [==============================] - 7s 1ms/step - loss: 0.7890 - accuracy: 0.6856 - val_loss: 0.4625 - val_accuracy: 0.8270\n",
      "Epoch 6/20\n",
      "4460/4460 [==============================] - 7s 1ms/step - loss: 0.7640 - accuracy: 0.6978 - val_loss: 0.4349 - val_accuracy: 0.8360\n",
      "Epoch 7/20\n",
      "4460/4460 [==============================] - 7s 2ms/step - loss: 0.7420 - accuracy: 0.7079 - val_loss: 0.4072 - val_accuracy: 0.8604\n",
      "Epoch 8/20\n",
      "4460/4460 [==============================] - 7s 2ms/step - loss: 0.7236 - accuracy: 0.7165 - val_loss: 0.3992 - val_accuracy: 0.8398\n",
      "Epoch 9/20\n",
      "4460/4460 [==============================] - 7s 2ms/step - loss: 0.7079 - accuracy: 0.7241 - val_loss: 0.3730 - val_accuracy: 0.8695\n",
      "Epoch 10/20\n",
      "4460/4460 [==============================] - 7s 2ms/step - loss: 0.6913 - accuracy: 0.7322 - val_loss: 0.3752 - val_accuracy: 0.8791\n",
      "Epoch 11/20\n",
      "4460/4460 [==============================] - 7s 2ms/step - loss: 0.6829 - accuracy: 0.7383 - val_loss: 0.3469 - val_accuracy: 0.8762\n",
      "Epoch 12/20\n",
      "4460/4460 [==============================] - 7s 2ms/step - loss: 0.6676 - accuracy: 0.7432 - val_loss: 0.3476 - val_accuracy: 0.8808\n",
      "Epoch 13/20\n",
      "4460/4460 [==============================] - 7s 2ms/step - loss: 0.6604 - accuracy: 0.7471 - val_loss: 0.3418 - val_accuracy: 0.8842\n",
      "Epoch 14/20\n",
      "4460/4460 [==============================] - 7s 1ms/step - loss: 0.6513 - accuracy: 0.7546 - val_loss: 0.3314 - val_accuracy: 0.8920\n",
      "Epoch 15/20\n",
      "4460/4460 [==============================] - 7s 2ms/step - loss: 0.6401 - accuracy: 0.7664 - val_loss: 0.2713 - val_accuracy: 0.9433\n",
      "Epoch 16/20\n",
      "4460/4460 [==============================] - 7s 1ms/step - loss: 0.6175 - accuracy: 0.7797 - val_loss: 0.2348 - val_accuracy: 0.9497\n",
      "Epoch 17/20\n",
      "4460/4460 [==============================] - 7s 1ms/step - loss: 0.6051 - accuracy: 0.7869 - val_loss: 0.2265 - val_accuracy: 0.9555\n",
      "Epoch 18/20\n",
      "4460/4460 [==============================] - 7s 2ms/step - loss: 0.5920 - accuracy: 0.7941 - val_loss: 0.2206 - val_accuracy: 0.9584\n",
      "Epoch 19/20\n",
      "4460/4460 [==============================] - 7s 2ms/step - loss: 0.5822 - accuracy: 0.7986 - val_loss: 0.2155 - val_accuracy: 0.9554\n",
      "Epoch 20/20\n",
      "4460/4460 [==============================] - 7s 2ms/step - loss: 0.5719 - accuracy: 0.8020 - val_loss: 0.2108 - val_accuracy: 0.9579\n"
     ]
    }
   ],
   "source": [
    "history = model.fit(\n",
    "    X_train_norm, \n",
    "    Y_train, \n",
    "    validation_data=(X_test_norm, Y_test), \n",
    "    epochs=20, batch_size=64, verbose=1)"
   ]
  },
  {
   "cell_type": "markdown",
   "metadata": {},
   "source": [
    "# Results"
   ]
  },
  {
   "cell_type": "code",
   "execution_count": 25,
   "metadata": {},
   "outputs": [
    {
     "data": {
      "text/html": [
       "<div>\n",
       "<style scoped>\n",
       "    .dataframe tbody tr th:only-of-type {\n",
       "        vertical-align: middle;\n",
       "    }\n",
       "\n",
       "    .dataframe tbody tr th {\n",
       "        vertical-align: top;\n",
       "    }\n",
       "\n",
       "    .dataframe thead th {\n",
       "        text-align: right;\n",
       "    }\n",
       "</style>\n",
       "<table border=\"1\" class=\"dataframe\">\n",
       "  <thead>\n",
       "    <tr style=\"text-align: right;\">\n",
       "      <th></th>\n",
       "      <th>loss</th>\n",
       "      <th>accuracy</th>\n",
       "      <th>val_loss</th>\n",
       "      <th>val_accuracy</th>\n",
       "    </tr>\n",
       "  </thead>\n",
       "  <tbody>\n",
       "    <tr>\n",
       "      <th>0</th>\n",
       "      <td>1.382496</td>\n",
       "      <td>0.435995</td>\n",
       "      <td>0.789281</td>\n",
       "      <td>0.710224</td>\n",
       "    </tr>\n",
       "    <tr>\n",
       "      <th>1</th>\n",
       "      <td>0.959281</td>\n",
       "      <td>0.617643</td>\n",
       "      <td>0.612921</td>\n",
       "      <td>0.786017</td>\n",
       "    </tr>\n",
       "    <tr>\n",
       "      <th>2</th>\n",
       "      <td>0.870220</td>\n",
       "      <td>0.656924</td>\n",
       "      <td>0.549447</td>\n",
       "      <td>0.808026</td>\n",
       "    </tr>\n",
       "    <tr>\n",
       "      <th>3</th>\n",
       "      <td>0.820276</td>\n",
       "      <td>0.674273</td>\n",
       "      <td>0.498044</td>\n",
       "      <td>0.821313</td>\n",
       "    </tr>\n",
       "    <tr>\n",
       "      <th>4</th>\n",
       "      <td>0.788962</td>\n",
       "      <td>0.685616</td>\n",
       "      <td>0.462499</td>\n",
       "      <td>0.826988</td>\n",
       "    </tr>\n",
       "    <tr>\n",
       "      <th>5</th>\n",
       "      <td>0.763996</td>\n",
       "      <td>0.697838</td>\n",
       "      <td>0.434895</td>\n",
       "      <td>0.836022</td>\n",
       "    </tr>\n",
       "    <tr>\n",
       "      <th>6</th>\n",
       "      <td>0.742033</td>\n",
       "      <td>0.707906</td>\n",
       "      <td>0.407246</td>\n",
       "      <td>0.860415</td>\n",
       "    </tr>\n",
       "    <tr>\n",
       "      <th>7</th>\n",
       "      <td>0.723625</td>\n",
       "      <td>0.716529</td>\n",
       "      <td>0.399209</td>\n",
       "      <td>0.839841</td>\n",
       "    </tr>\n",
       "    <tr>\n",
       "      <th>8</th>\n",
       "      <td>0.707884</td>\n",
       "      <td>0.724088</td>\n",
       "      <td>0.372972</td>\n",
       "      <td>0.869503</td>\n",
       "    </tr>\n",
       "    <tr>\n",
       "      <th>9</th>\n",
       "      <td>0.691331</td>\n",
       "      <td>0.732238</td>\n",
       "      <td>0.375208</td>\n",
       "      <td>0.879065</td>\n",
       "    </tr>\n",
       "    <tr>\n",
       "      <th>10</th>\n",
       "      <td>0.682881</td>\n",
       "      <td>0.738318</td>\n",
       "      <td>0.346919</td>\n",
       "      <td>0.876180</td>\n",
       "    </tr>\n",
       "    <tr>\n",
       "      <th>11</th>\n",
       "      <td>0.667635</td>\n",
       "      <td>0.743199</td>\n",
       "      <td>0.347564</td>\n",
       "      <td>0.880812</td>\n",
       "    </tr>\n",
       "    <tr>\n",
       "      <th>12</th>\n",
       "      <td>0.660361</td>\n",
       "      <td>0.747110</td>\n",
       "      <td>0.341809</td>\n",
       "      <td>0.884225</td>\n",
       "    </tr>\n",
       "    <tr>\n",
       "      <th>13</th>\n",
       "      <td>0.651350</td>\n",
       "      <td>0.754567</td>\n",
       "      <td>0.331365</td>\n",
       "      <td>0.892013</td>\n",
       "    </tr>\n",
       "    <tr>\n",
       "      <th>14</th>\n",
       "      <td>0.640121</td>\n",
       "      <td>0.766421</td>\n",
       "      <td>0.271250</td>\n",
       "      <td>0.943345</td>\n",
       "    </tr>\n",
       "    <tr>\n",
       "      <th>15</th>\n",
       "      <td>0.617536</td>\n",
       "      <td>0.779677</td>\n",
       "      <td>0.234838</td>\n",
       "      <td>0.949724</td>\n",
       "    </tr>\n",
       "    <tr>\n",
       "      <th>16</th>\n",
       "      <td>0.605139</td>\n",
       "      <td>0.786927</td>\n",
       "      <td>0.226505</td>\n",
       "      <td>0.955481</td>\n",
       "    </tr>\n",
       "    <tr>\n",
       "      <th>17</th>\n",
       "      <td>0.592049</td>\n",
       "      <td>0.794076</td>\n",
       "      <td>0.220623</td>\n",
       "      <td>0.958420</td>\n",
       "    </tr>\n",
       "    <tr>\n",
       "      <th>18</th>\n",
       "      <td>0.582231</td>\n",
       "      <td>0.798603</td>\n",
       "      <td>0.215516</td>\n",
       "      <td>0.955372</td>\n",
       "    </tr>\n",
       "    <tr>\n",
       "      <th>19</th>\n",
       "      <td>0.571897</td>\n",
       "      <td>0.801974</td>\n",
       "      <td>0.210836</td>\n",
       "      <td>0.957946</td>\n",
       "    </tr>\n",
       "  </tbody>\n",
       "</table>\n",
       "</div>"
      ],
      "text/plain": [
       "        loss  accuracy  val_loss  val_accuracy\n",
       "0   1.382496  0.435995  0.789281      0.710224\n",
       "1   0.959281  0.617643  0.612921      0.786017\n",
       "2   0.870220  0.656924  0.549447      0.808026\n",
       "3   0.820276  0.674273  0.498044      0.821313\n",
       "4   0.788962  0.685616  0.462499      0.826988\n",
       "5   0.763996  0.697838  0.434895      0.836022\n",
       "6   0.742033  0.707906  0.407246      0.860415\n",
       "7   0.723625  0.716529  0.399209      0.839841\n",
       "8   0.707884  0.724088  0.372972      0.869503\n",
       "9   0.691331  0.732238  0.375208      0.879065\n",
       "10  0.682881  0.738318  0.346919      0.876180\n",
       "11  0.667635  0.743199  0.347564      0.880812\n",
       "12  0.660361  0.747110  0.341809      0.884225\n",
       "13  0.651350  0.754567  0.331365      0.892013\n",
       "14  0.640121  0.766421  0.271250      0.943345\n",
       "15  0.617536  0.779677  0.234838      0.949724\n",
       "16  0.605139  0.786927  0.226505      0.955481\n",
       "17  0.592049  0.794076  0.220623      0.958420\n",
       "18  0.582231  0.798603  0.215516      0.955372\n",
       "19  0.571897  0.801974  0.210836      0.957946"
      ]
     },
     "execution_count": 25,
     "metadata": {},
     "output_type": "execute_result"
    }
   ],
   "source": [
    "pd.DataFrame(history.history)"
   ]
  },
  {
   "cell_type": "code",
   "execution_count": 26,
   "metadata": {
    "colab": {
     "base_uri": "https://localhost:8080/",
     "height": 295
    },
    "executionInfo": {
     "elapsed": 371,
     "status": "ok",
     "timestamp": 1650476978075,
     "user": {
      "displayName": "Naman Arora",
      "userId": "05431509508560644189"
     },
     "user_tz": 240
    },
    "id": "smHtsPxsDb7l",
    "outputId": "176a1aa2-d7fc-4cdd-8575-70f1216914cc",
    "scrolled": true
   },
   "outputs": [
    {
     "data": {
      "image/png": "[encoded data removed]",
      "text/plain": [
       "<Figure size 1280x720 with 1 Axes>"
      ]
     },
     "metadata": {},
     "output_type": "display_data"
    }
   ],
   "source": [
    "plot_history(history)"
   ]
  },
  {
   "cell_type": "code",
   "execution_count": 27,
   "metadata": {
    "id": "_4qTnIMNDb7n"
   },
   "outputs": [
    {
     "name": "stderr",
     "output_type": "stream",
     "text": [
      "C:\\Users\\91790\\anaconda3\\Lib\\site-packages\\keras\\src\\engine\\training.py:3079: UserWarning: You are saving your model as an HDF5 file via `model.save()`. This file format is considered legacy. We recommend using instead the native Keras format, e.g. `model.save('my_model.keras')`.\n",
      "  saving_api.save_model(\n"
     ]
    }
   ],
   "source": [
    "# save model \n",
    "model.save('deepfit_classifier_v3.h5')"
   ]
  },
  {
   "cell_type": "code",
   "execution_count": 28,
   "metadata": {},
   "outputs": [],
   "source": [
    "# load model\n",
    "# model = tf.keras.models.load_model('deepfit_classifier_v2.h5')"
   ]
  },
  {
   "cell_type": "markdown",
   "metadata": {},
   "source": [
    "# Random Testing"
   ]
  },
  {
   "cell_type": "code",
   "execution_count": 29,
   "metadata": {
    "id": "IW-XWnRzDb7o",
    "outputId": "35668296-4332-458e-c524-2d36580fbe44"
   },
   "outputs": [
    {
     "name": "stdout",
     "output_type": "stream",
     "text": [
      "1/1 [==============================] - 0s 79ms/step\n",
      "Estimated pose:\n",
      "squats: \t0.94903225\n",
      "lunges: \t9.266262e-05\n",
      "bicep_curls: \t0.0009815198\n",
      "situps: \t0.029190483\n",
      "pushups: \t0.0030206293\n",
      "tricep_extensions: \t3.0509047e-05\n",
      "dumbbell_rows: \t0.00029073525\n",
      "jumping_jacks: \t0.017165923\n",
      "dumbbell_shoulder_press: \t6.134136e-05\n",
      "lateral_shoulder_raises: \t0.00013391682\n",
      "\n",
      "Prediction: squats\n",
      "Actual Label :squats\n"
     ]
    },
    {
     "data": {
      "image/png": "[encoded data removed]",
      "text/plain": [
       "<Figure size 640x480 with 2 Axes>"
      ]
     },
     "metadata": {},
     "output_type": "display_data"
    }
   ],
   "source": [
    "# Testing on single example\n",
    "LABELS = list(d.keys())\n",
    "ind = np.random.randint(0,70000)\n",
    "X_sample = load_X('data/X_test.txt')[ind:2+ind]\n",
    "X_sample_norm = norm_X(X_sample)\n",
    "y_out = model.predict(X_sample_norm[0].reshape(1, 36))\n",
    "\n",
    "print(\"Estimated pose:\")\n",
    "for idx in range(len(LABELS)):\n",
    "    print(LABELS[idx] + \": \\t\" + str(y_out[0][idx]))\n",
    "plot(X_sample[1])\n",
    "print('\\nPrediction: ',end='')\n",
    "print(LABELS[np.argmax(y_out)])\n",
    "print('Actual Label :', end='')\n",
    "print(LABELS[int(load_Y('data/Y_test.txt')[ind])])"
   ]
  },
  {
   "cell_type": "code",
   "execution_count": 30,
   "metadata": {},
   "outputs": [
    {
     "data": {
      "text/plain": [
       "0.94903225"
      ]
     },
     "execution_count": 30,
     "metadata": {},
     "output_type": "execute_result"
    }
   ],
   "source": [
    "y_out.max()"
   ]
  },
  {
   "cell_type": "markdown",
   "metadata": {},
   "source": [
    "# Evaluation on Held Out Data"
   ]
  },
  {
   "cell_type": "code",
   "execution_count": 31,
   "metadata": {},
   "outputs": [
    {
     "name": "stdout",
     "output_type": "stream",
     "text": [
      "455/455 [==============================] - 0s 859us/step - loss: 0.2052 - accuracy: 0.9678\n"
     ]
    },
    {
     "data": {
      "text/plain": [
       "[0.2052113562822342, 0.9678195714950562]"
      ]
     },
     "execution_count": 31,
     "metadata": {},
     "output_type": "execute_result"
    }
   ],
   "source": [
    "model.evaluate(\n",
    "    X_val_norm,\n",
    "    Y_val,\n",
    "    verbose=1\n",
    ")"
   ]
  },
  {
   "cell_type": "markdown",
   "metadata": {},
   "source": [
    "# TF Lite Conversion"
   ]
  },
  {
   "cell_type": "code",
   "execution_count": 32,
   "metadata": {},
   "outputs": [
    {
     "name": "stdout",
     "output_type": "stream",
     "text": [
      "INFO:tensorflow:Assets written to: C:\\Users\\91790\\AppData\\Local\\Temp\\tmp4hjfpvd8\\assets\n"
     ]
    },
    {
     "name": "stderr",
     "output_type": "stream",
     "text": [
      "INFO:tensorflow:Assets written to: C:\\Users\\91790\\AppData\\Local\\Temp\\tmp4hjfpvd8\\assets\n"
     ]
    }
   ],
   "source": [
    "converter = tf.lite.TFLiteConverter.from_keras_model(model)\n",
    "tflite_model = converter.convert()\n",
    "# Save the model.\n",
    "with open('deepfit_classifier_v3.tflite', 'wb') as f:\n",
    "  f.write(tflite_model)"
   ]
  },
  {
   "cell_type": "code",
   "execution_count": 33,
   "metadata": {},
   "outputs": [],
   "source": [
    "# Load the TFLite model and allocate tensors.\n",
    "interpreter = tf.lite.Interpreter(model_path='deepfit_classifier_v3.tflite')\n",
    "interpreter.allocate_tensors()\n",
    "\n",
    "# Get input and output tensors.\n",
    "input_details = interpreter.get_input_details()\n",
    "output_details = interpreter.get_output_details()\n",
    "\n",
    "# Setup input\n",
    "X_sample = load_X('data/X_test.txt')[0+1234].reshape(1,-1)\n",
    "X_sample_norm = norm_X(X_sample)"
   ]
  },
  {
   "cell_type": "code",
   "execution_count": 34,
   "metadata": {},
   "outputs": [
    {
     "data": {
      "text/plain": [
       "array([[586.167, 586.247, 525.52 , 480.556, 554.919, 645.017, 686.225,\n",
       "        621.596, 541.314, 494.274, 490.212, 623.514, 666.689, 656.837,\n",
       "        572.501, 598.057, 556.825, 617.533, 186.653, 251.303, 245.461,\n",
       "        337.549, 288.424, 255.161, 347.232, 288.383, 415.846, 525.507,\n",
       "        668.598, 413.869, 521.653, 666.673, 174.888, 176.802, 180.777,\n",
       "        180.831]], dtype=float32)"
      ]
     },
     "execution_count": 34,
     "metadata": {},
     "output_type": "execute_result"
    }
   ],
   "source": [
    "X_sample"
   ]
  },
  {
   "cell_type": "code",
   "execution_count": 35,
   "metadata": {},
   "outputs": [
    {
     "data": {
      "text/plain": [
       "(1, 36)"
      ]
     },
     "execution_count": 35,
     "metadata": {},
     "output_type": "execute_result"
    }
   ],
   "source": [
    "X_sample_norm.shape"
   ]
  },
  {
   "cell_type": "code",
   "execution_count": 36,
   "metadata": {},
   "outputs": [
    {
     "data": {
      "text/plain": [
       "[{'name': 'serving_default_dense_input:0',\n",
       "  'index': 0,\n",
       "  'shape': array([ 1, 36]),\n",
       "  'shape_signature': array([-1, 36]),\n",
       "  'dtype': numpy.float32,\n",
       "  'quantization': (0.0, 0),\n",
       "  'quantization_parameters': {'scales': array([], dtype=float32),\n",
       "   'zero_points': array([], dtype=int32),\n",
       "   'quantized_dimension': 0},\n",
       "  'sparsity_parameters': {}}]"
      ]
     },
     "execution_count": 36,
     "metadata": {},
     "output_type": "execute_result"
    }
   ],
   "source": [
    "input_details"
   ]
  },
  {
   "cell_type": "code",
   "execution_count": 37,
   "metadata": {},
   "outputs": [
    {
     "data": {
      "text/plain": [
       "(1, 36)"
      ]
     },
     "execution_count": 37,
     "metadata": {},
     "output_type": "execute_result"
    }
   ],
   "source": [
    "# Set up your input data.\n",
    "input_data = np.array(X_sample_norm[0], np.float32).reshape(1,36)\n",
    "input_data.shape"
   ]
  },
  {
   "cell_type": "code",
   "execution_count": 38,
   "metadata": {},
   "outputs": [
    {
     "name": "stdout",
     "output_type": "stream",
     "text": [
      "[[9.5302457e-01 1.3035725e-05 2.8295675e-04 3.7153628e-02 4.3958439e-03\n",
      "  1.9284820e-05 6.2993044e-05 5.0287773e-03 1.0494307e-05 8.4800167e-06]]\n"
     ]
    }
   ],
   "source": [
    "\n",
    "# Invoke the model on the input data\n",
    "interpreter.set_tensor(input_details[0]['index'], input_data)\n",
    "interpreter.invoke()\n",
    "\n",
    "# Get the result \n",
    "output_data = interpreter.get_tensor(output_details[0]['index'])\n",
    "print(output_data)"
   ]
  },
  {
   "cell_type": "code",
   "execution_count": 39,
   "metadata": {},
   "outputs": [
    {
     "data": {
      "text/plain": [
       "0.95302457"
      ]
     },
     "execution_count": 39,
     "metadata": {},
     "output_type": "execute_result"
    }
   ],
   "source": [
    "output_data[0].max()"
   ]
  },
  {
   "cell_type": "code",
   "execution_count": null,
   "metadata": {},
   "outputs": [],
   "source": []
  },
  {
   "cell_type": "code",
   "execution_count": null,
   "metadata": {},
   "outputs": [],
   "source": []
  }
 ],
 "metadata": {
  "accelerator": "GPU",
  "colab": {
   "name": "train_pose_classifier.ipynb",
   "provenance": []
  },
  "kernelspec": {
   "display_name": "Python 3 (ipykernel)",
   "language": "python",
   "name": "python3"
  },
  "language_info": {
   "codemirror_mode": {
    "name": "ipython",
    "version": 3
   },
   "file_extension": ".py",
   "mimetype": "text/x-python",
   "name": "python",
   "nbconvert_exporter": "python",
   "pygments_lexer": "ipython3",
   "version": "3.11.5"
  }
 },
 "nbformat": 4,
 "nbformat_minor": 1
}
